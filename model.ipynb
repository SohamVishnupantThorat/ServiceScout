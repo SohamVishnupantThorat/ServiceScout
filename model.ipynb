{
 "cells": [
  {
   "cell_type": "code",
   "execution_count": null,
   "metadata": {},
   "outputs": [],
   "source": [
    "from mira_sdk import MiraClient\n",
    "client = MiraClient(config={\"API_KEY\": \"YOUR_API_KEY\"})"
   ]
  },
  {
   "cell_type": "code",
   "execution_count": 3,
   "metadata": {},
   "outputs": [],
   "source": [
    "from mira_sdk import MiraClient, Flow\n",
    "from mira_sdk.exceptions import FlowError\n",
    "from dotenv import load_dotenv\n",
    "import os"
   ]
  },
  {
   "cell_type": "code",
   "execution_count": null,
   "metadata": {},
   "outputs": [],
   "source": [
    "# flow = Flow(source=\"flow.yaml\")\n",
    "# try:\n",
    "# \tclient.flow.deploy(flow)\n",
    "# except FlowError as e:\n",
    "# \tprint(f\"Error occured: {str(e)}\")"
   ]
  },
  {
   "cell_type": "code",
   "execution_count": null,
   "metadata": {},
   "outputs": [
    {
     "name": "stdout",
     "output_type": "stream",
     "text": [
      "{'result': \"Mother Teresa, known for her charitable work and dedication to serving the poor, founded the Missionaries of Charity, a Roman Catholic religious congregation that became one of the most well-known and impactful non-governmental organizations (NGOs) in the world. Her work in social services, particularly in Calcutta (now Kolkata), India, set a powerful example for NGOs focused on helping the most vulnerable members of society.\\n\\nThe Missionaries of Charity, established in 1950, exemplified several key aspects of NGO work in social services:\\n\\n1. Identifying and addressing urgent needs: Mother Teresa and her organization focused on helping those who were often overlooked by society, including the sick, elderly, orphaned, and homeless.\\n\\n2. Providing direct assistance: The organization offered hands-on care, including medical attention, food, shelter, and emotional support to those in need.\\n\\n3. Establishing long-term care facilities: Mother Teresa's NGO set up homes for orphaned children, hospices for the terminally ill, and shelters for the homeless.\\n\\n4. Mobilizing volunteers: The Missionaries of Charity attracted thousands of volunteers from around the world, creating a global network of individuals committed to serving others.\\n\\n5. Raising awareness: Through her work and international recognition, Mother Teresa brought attention to issues of poverty and social inequality, inspiring others to take action.\\n\\n6. Expanding reach: Starting in Calcutta, the organization gradually expanded its operations to other parts of India and eventually to countries around the world.\\n\\n7. Collaboration with local communities: The NGO worked closely with local populations, understanding their specific needs and cultural contexts.\\n\\n8. Providing education and skill development: In addition to immediate aid, the organization also focused on long-term solutions by offering education and vocational training to help people become self-sufficient.\\n\\n9. Advocating for social change: Mother Teresa used her platform to speak out against social injustices and advocate for policies to help the poor and marginalized.\\n\\n10. Maintaining independence: While working with governments and other organizations, the Missionaries of Charity maintained its independence, allowing it to focus on its core mission without being overly influenced by external pressures.\\n\\n11. Sustainable funding: The organization relied on donations and grants, developing a model for sustainable funding that allowed it to continue its work over decades.\\n\\n12. Holistic approach: Mother Teresa's NGO addressed not only physical needs but also emotional and spiritual well-being, recognizing the importance of treating the whole person.\\n\\nThe work of Mother Teresa and the Missionaries of Charity demonstrated the potential impact of NGOs in addressing social issues. Their approach to social services emphasized compassion, direct action, and a commitment to serving the most marginalized members of society. This model has inspired countless other NGOs and individuals to engage in similar work around the world.\\n\\nThe legacy of Mother Teresa's NGO continues to influence the field of social services, emphasizing the importance of grassroots efforts, personal dedication, and the power of individuals to make a significant difference in the lives of others. Her work serves as a reminder of the vital role that NGOs can play in addressing social issues and providing support to those in need, often filling gaps where government services may be lacking or insufficient.\"}\n"
     ]
    }
   ],
   "source": [
    "# input_dict={\"topic\": \"NGO\", \"style\": \"Mother Teresa\"}\n",
    "# response=client.flow.test(flow, input_dict)\n",
    "# print(response)\n"
   ]
  },
  {
   "cell_type": "code",
   "execution_count": 4,
   "metadata": {},
   "outputs": [],
   "source": [
    "from mira_sdk import MiraClient, CompoundFlow\n"
   ]
  },
  {
   "cell_type": "code",
   "execution_count": 16,
   "metadata": {},
   "outputs": [],
   "source": [
    "compound_flow = CompoundFlow(source=\"compound_flow.yaml\")\n",
    "try:\n",
    "    client.flow.deploy(compound_flow)\n",
    "except FlowError as e:\n",
    "    print(f\"Error occured: {str(e)}\")\n"
   ]
  },
  {
   "cell_type": "code",
   "execution_count": 18,
   "metadata": {},
   "outputs": [
    {
     "name": "stdout",
     "output_type": "stream",
     "text": [
        "Test response: {'third_flow': "Combining the ideas from Dr. APJ Abdul Kalam's contributions and the ways to contribute to education through social services in India, we can create a holistic approach to educational improvement. This approach would focus on promoting equal access to quality education, integrating technology and digital literacy, emphasizing skill development and vocational training, and fostering a scientific temper among students. It would also involve community engagement, mentorship programs, and initiatives to support underprivileged students, including girls and those with special needs. By volunteering in teaching, developing educational resources, and participating in fundraising and awareness campaigns, individuals can contribute to realizing Dr. Kalam's vision of empowering youth and driving India's development through education. This comprehensive strategy would address both urban and rural educational needs, promote value-based learning, and ultimately work towards creating a more equitable and innovative society.", 'result': "Combining the ideas from Dr. APJ Abdul Kalam's contributions and the ways to contribute to education through social services in India, we can create a holistic approach to educational improvement. This approach would focus on promoting equal access to quality education, integrating technology and digital literacy, emphasizing skill development and vocational training, and fostering a scientific temper among students. It would also involve community engagement, mentorship programs, and initiatives to support underprivileged students, including girls and those with special needs. By volunteering in teaching, developing educational resources, and participating in fundraising and awareness campaigns, individuals can contribute to realizing Dr. Kalam's vision of empowering youth and driving India's development through education. This comprehensive strategy would address both urban and rural educational needs, promote value-based learning, and ultimately work towards creating a more equitable and innovative society.\n\n"}"
     ]
    }
   ],
   "source": [
    "test_input = {                                              # Prepare test inputs\n",
    "    \"Area_of_interest\": \"Education\",\n",
    "    \"person_idolised\": \"APJ Abdul Kalam\"\n",
    "}\n",
    "\n",
    "try:\n",
    "    response = client.flow.test(compound_flow, test_input)           # Test entire pipeline\n",
    "    print(\"Test response:\", response)\n",
    "except FlowError as e:\n",
    "    print(\"Test failed:\", str(e)) "
   ]
  },
  {
   "cell_type": "code",
   "execution_count": 77,
   "metadata": {},
   "outputs": [
    {
     "data": {
      "text/plain": [
       "{'data': {'message': 'Knowledge created successfully', 'knowledge_id': 224}}"
      ]
     },
     "execution_count": 77,
     "metadata": {},
     "output_type": "execute_result"
    }
   ],
   "source": [
    "client.dataset.create(\"sohamthorat/nsshours\", \"Optional description\")\n"
   ]
  },
  {
   "cell_type": "code",
   "execution_count": 78,
   "metadata": {},
   "outputs": [
    {
     "data": {
      "text/plain": [
       "{'data': {'task_id': '73e21fdb-f7f1-4a1f-a4f2-0491c1eecaca'}}"
      ]
     },
     "execution_count": 78,
     "metadata": {},
     "output_type": "execute_result"
    }
   ],
   "source": [
    "client.dataset.add_source(\"sohamthorat/nsshours\", url=\"https://www.planstreet.com/what-are-social-services-and-what-they-do\")"
   ]
  },
  {
   "cell_type": "code",
   "execution_count": 84,
   "metadata": {},
   "outputs": [
    {
     "data": {
      "text/plain": [
       "{'data': {'task_id': '70feb43c-aca8-4bae-8f7e-623aa0b029b4'}}"
      ]
     },
     "execution_count": 84,
     "metadata": {},
     "output_type": "execute_result"
    }
   ],
   "source": [
    "client.dataset.add_source(\"sohamthorat/nsshours\", url=\"https://nss.gov.in/nss-detail-page\")"
   ]
  },
  {
   "cell_type": "code",
   "execution_count": 85,
   "metadata": {},
   "outputs": [
    {
     "data": {
      "text/plain": [
       "{'data': {'task_id': '8a21f319-81c3-4464-a19e-9395900a858f'}}"
      ]
     },
     "execution_count": 85,
     "metadata": {},
     "output_type": "execute_result"
    }
   ],
   "source": [
    "client.dataset.add_source(\"sohamthorat/nsshours\", url=\"https://www.bajajfinserv.in/national-service-scheme\")"
   ]
  },
  {
   "cell_type": "code",
   "execution_count": null,
   "metadata": {},
   "outputs": [],
   "source": []
  }
 ],
 "metadata": {
  "kernelspec": {
   "display_name": "Python 3",
   "language": "python",
   "name": "python3"
  },
  "language_info": {
   "codemirror_mode": {
    "name": "ipython",
    "version": 3
   },
   "file_extension": ".py",
   "mimetype": "text/x-python",
   "name": "python",
   "nbconvert_exporter": "python",
   "pygments_lexer": "ipython3",
   "version": "3.11.4"
  }
 },
 "nbformat": 4,
 "nbformat_minor": 2
}
