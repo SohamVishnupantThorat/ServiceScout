{
 "cells": [
  {
   "cell_type": "code",
   "execution_count": null,
   "metadata": {},
   "outputs": [],
   "source": [
    "from mira_sdk import MiraClient\n",
    "client = MiraClient(config={\"API_KEY\": \"YOUR_API_KEY\"})"
   ]
  },
  {
   "cell_type": "code",
   "execution_count": 3,
   "metadata": {},
   "outputs": [],
   "source": [
    "from mira_sdk import MiraClient, Flow\n",
    "from mira_sdk.exceptions import FlowError\n",
    "from dotenv import load_dotenv\n",
    "import os"
   ]
  },
  {
   "cell_type": "code",
   "execution_count": null,
   "metadata": {},
   "outputs": [],
   "source": [
    "# flow = Flow(source=\"flow.yaml\")\n",
    "# try:\n",
    "# \tclient.flow.deploy(flow)\n",
    "# except FlowError as e:\n",
    "# \tprint(f\"Error occured: {str(e)}\")"
   ]
  },
  {
   "cell_type": "code",
   "execution_count": null,
   "metadata": {},
   "outputs": [
    {
     "name": "stdout",
     "output_type": "stream",
     "text": [
      "{'result': \"Mother Teresa, known for her charitable work and dedication to serving the poor, founded the Missionaries of Charity, a Roman Catholic religious congregation that became one of the most well-known and impactful non-governmental organizations (NGOs) in the world. Her work in social services, particularly in Calcutta (now Kolkata), India, set a powerful example for NGOs focused on helping the most vulnerable members of society.\\n\\nThe Missionaries of Charity, established in 1950, exemplified several key aspects of NGO work in social services:\\n\\n1. Identifying and addressing urgent needs: Mother Teresa and her organization focused on helping those who were often overlooked by society, including the sick, elderly, orphaned, and homeless.\\n\\n2. Providing direct assistance: The organization offered hands-on care, including medical attention, food, shelter, and emotional support to those in need.\\n\\n3. Establishing long-term care facilities: Mother Teresa's NGO set up homes for orphaned children, hospices for the terminally ill, and shelters for the homeless.\\n\\n4. Mobilizing volunteers: The Missionaries of Charity attracted thousands of volunteers from around the world, creating a global network of individuals committed to serving others.\\n\\n5. Raising awareness: Through her work and international recognition, Mother Teresa brought attention to issues of poverty and social inequality, inspiring others to take action.\\n\\n6. Expanding reach: Starting in Calcutta, the organization gradually expanded its operations to other parts of India and eventually to countries around the world.\\n\\n7. Collaboration with local communities: The NGO worked closely with local populations, understanding their specific needs and cultural contexts.\\n\\n8. Providing education and skill development: In addition to immediate aid, the organization also focused on long-term solutions by offering education and vocational training to help people become self-sufficient.\\n\\n9. Advocating for social change: Mother Teresa used her platform to speak out against social injustices and advocate for policies to help the poor and marginalized.\\n\\n10. Maintaining independence: While working with governments and other organizations, the Missionaries of Charity maintained its independence, allowing it to focus on its core mission without being overly influenced by external pressures.\\n\\n11. Sustainable funding: The organization relied on donations and grants, developing a model for sustainable funding that allowed it to continue its work over decades.\\n\\n12. Holistic approach: Mother Teresa's NGO addressed not only physical needs but also emotional and spiritual well-being, recognizing the importance of treating the whole person.\\n\\nThe work of Mother Teresa and the Missionaries of Charity demonstrated the potential impact of NGOs in addressing social issues. Their approach to social services emphasized compassion, direct action, and a commitment to serving the most marginalized members of society. This model has inspired countless other NGOs and individuals to engage in similar work around the world.\\n\\nThe legacy of Mother Teresa's NGO continues to influence the field of social services, emphasizing the importance of grassroots efforts, personal dedication, and the power of individuals to make a significant difference in the lives of others. Her work serves as a reminder of the vital role that NGOs can play in addressing social issues and providing support to those in need, often filling gaps where government services may be lacking or insufficient.\"}\n"
     ]
    }
   ],
   "source": [
    "# input_dict={\"topic\": \"NGO\", \"style\": \"Mother Teresa\"}\n",
    "# response=client.flow.test(flow, input_dict)\n",
    "# print(response)\n"
   ]
  },
  {
   "cell_type": "code",
   "execution_count": 4,
   "metadata": {},
   "outputs": [],
   "source": [
    "from mira_sdk import MiraClient, CompoundFlow\n"
   ]
  },
  {
   "cell_type": "code",
   "execution_count": 16,
   "metadata": {},
   "outputs": [],
   "source": [
    "compound_flow = CompoundFlow(source=\"compound_flow.yaml\")\n",
    "try:\n",
    "    client.flow.deploy(compound_flow)\n",
    "except FlowError as e:\n",
    "    print(f\"Error occured: {str(e)}\")\n"
   ]
  },
  {
   "cell_type": "code",
   "execution_count": 18,
   "metadata": {},
   "outputs": [
    {
     "name": "stdout",
     "output_type": "stream",
     "text": [
      "Test response: {'first_flow': 'Social service in education is a broad area that focuses on improving access to quality education, addressing educational disparities, and supporting students\\' overall well-being. Here are some key aspects of social service in education:\\n\\n1. Equal access: Ensuring all children, regardless of socioeconomic background, have access to quality education.\\n\\n2. Special education: Providing support for students with disabilities or learning difficulties.\\n\\n3. Adult education: Offering educational opportunities for adults who may have missed out on formal schooling.\\n\\n4. Literacy programs: Promoting literacy among children and adults.\\n\\n5. Educational counseling: Providing guidance to students on academic and personal issues.\\n\\n6. After-school programs: Offering additional support and enrichment activities outside regular school hours.\\n\\n7. Teacher training: Improving the quality of education by enhancing teachers\\' skills and knowledge.\\n\\n8. Technology in education: Integrating modern technology to enhance learning experiences.\\n\\n9. Nutrition programs: Ensuring students have access to proper nutrition to support their learning.\\n\\n10. Community engagement: Involving parents and the community in educational initiatives.\\n\\nRegarding Dr. APJ Abdul Kalam\\'s contributions to education:\\n\\nDr. APJ Abdul Kalam, former President of India and renowned scientist, was a strong advocate for education and made significant contributions to the field. Some of his notable efforts include:\\n\\n1. Vision for youth: He emphasized the importance of education in empowering youth and realizing India\\'s potential as a developed nation.\\n\\n2. Interaction with students: He frequently visited schools and universities to interact with students, inspiring them to pursue knowledge and innovation.\\n\\n3. PURA (Providing Urban Amenities in Rural Areas): This concept, developed by Kalam, aimed to bridge the urban-rural divide in education and development.\\n\\n4. Digital learning: He promoted the use of technology in education, advocating for e-learning and virtual classrooms.\\n\\n5. Skill development: Kalam emphasized the need for practical skills alongside theoretical knowledge.\\n\\n6. \"What Can I Give\" movement: He initiated this movement to encourage youth to contribute to society and nation-building.\\n\\n7. Writing educational books: He authored several books aimed at inspiring and educating young minds, such as \"Ignited Minds\" and \"Wings of Fire.\"\\n\\n8. Promoting scientific temper: Kalam encouraged students to develop a scientific outlook and pursue careers in science and technology.\\n\\n9. Educational policy recommendations: He provided valuable inputs for shaping India\\'s educational policies.\\n\\n10. Lifelong learning: Kalam advocated for continuous learning and self-improvement throughout one\\'s life.\\n\\nDr. Kalam\\'s efforts in education were aimed at inspiring and empowering the youth of India, promoting scientific thinking, and fostering innovation to drive national development.', 'second_flow': 'Contributing to society in the area of education through social services in India is a noble goal. There are many ways you can make a difference. Here are some ideas and opportunities:\\n\\n1. Volunteer teaching:\\n- Join NGOs or non-profit organizations that offer educational programs for underprivileged children.\\n- Participate in adult literacy programs.\\n- Teach English or other subjects in rural schools.\\n\\n2. Mentoring:\\n- Become a mentor for students, providing guidance on academics and career choices.\\n- Offer career counseling to high school and college students.\\n\\n3. Digital literacy:\\n- Conduct computer literacy classes for both children and adults.\\n- Help set up computer labs in rural schools.\\n\\n4. Skill development:\\n- Offer vocational training programs to help young adults acquire employable skills.\\n- Conduct workshops on soft skills, communication, and personality development.\\n\\n5. Educational material development:\\n- Create or translate educational content into regional languages.\\n- Develop low-cost teaching aids and learning materials.\\n\\n6. Fundraising:\\n- Organize fundraising events to support educational initiatives.\\n- Help secure scholarships for deserving students.\\n\\n7. Infrastructure support:\\n- Participate in programs to improve school infrastructure, such as building classrooms or libraries.\\n- Contribute to initiatives providing clean water and sanitation facilities in schools.\\n\\n8. Awareness campaigns:\\n- Conduct awareness programs on the importance of education, especially for girls.\\n- Organize campaigns against child labor and promote child education.\\n\\n9. Special education:\\n- Volunteer with organizations working with children with special needs.\\n- Help develop inclusive education programs.\\n\\n10. Education technology:\\n- Contribute to initiatives leveraging technology for education, such as e-learning platforms or mobile education apps.\\n\\n11. Teacher training:\\n- Conduct workshops to enhance teaching skills of rural educators.\\n- Introduce innovative teaching methodologies to improve classroom engagement.\\n\\n12. Library services:\\n- Help set up and manage community libraries.\\n- Organize book donation drives for underprivileged schools.\\n\\nTo get started, you can:\\n\\n1. Research and connect with reputable NGOs and non-profit organizations working in education in India.\\n2. Explore government initiatives and programs in the education sector that welcome volunteers.\\n3. Reach out to local schools or community centers to offer your services.\\n4. Join online platforms that connect volunteers with educational projects in India.\\n5. Develop your own initiative based on your skills and the needs of your local community.\\n\\nRemember that consistency and long-term commitment often lead to the most significant impact. Start with small steps and gradually increase your involvement as you gain more experience and understanding of the field.', 'third_flow': 'Combining the insights from Dr. APJ Abdul Kalam\\'s contributions to education and the various ways to contribute to social services in education in India, we can create a comprehensive approach to improving education:\\n\\n1. Vision and Inspiration: Like Dr. Kalam, focus on inspiring youth and promoting a vision of education as a tool for national development.\\n\\n2. Technology Integration: Embrace digital learning and computer literacy, following Kalam\\'s advocacy for e-learning and bridging the digital divide.\\n\\n3. Skill Development: Combine theoretical knowledge with practical skills, offering vocational training and workshops on soft skills.\\n\\n4. Community Engagement: Involve parents and community members in educational initiatives, similar to Kalam\\'s \"What Can I Give\" movement.\\n\\n5. Mentoring and Counseling: Provide guidance to students on academic and personal issues, inspired by Kalam\\'s interactions with students.\\n\\n6. Literacy Programs: Promote literacy among children and adults, including special focus on regional languages.\\n\\n7. Equal Access: Work towards ensuring all children have access to quality education, regardless of their background.\\n\\n8. Infrastructure Support: Contribute to improving school facilities, especially in rural areas, aligning with Kalam\\'s PURA concept.\\n\\n9. Teacher Training: Enhance educators\\' skills and introduce innovative teaching methodologies.\\n\\n10. Special Education: Support programs for students with special needs and learning difficulties.\\n\\n11. Lifelong Learning: Encourage continuous learning and self-improvement throughout one\\'s life, as advocated by Dr. Kalam.\\n\\nBy combining these elements, we can create a holistic approach to education that not only addresses immediate needs but also inspires long-term growth and development, much like Dr. Kalam\\'s vision for India\\'s educational future.', 'result': 'Social service in education is a broad area that focuses on improving access to quality education, addressing educational disparities, and supporting students\\' overall well-being. Here are some key aspects of social service in education:\\n\\n1. Equal access: Ensuring all children, regardless of socioeconomic background, have access to quality education.\\n\\n2. Special education: Providing support for students with disabilities or learning difficulties.\\n\\n3. Adult education: Offering educational opportunities for adults who may have missed out on formal schooling.\\n\\n4. Literacy programs: Promoting literacy among children and adults.\\n\\n5. Educational counseling: Providing guidance to students on academic and personal issues.\\n\\n6. After-school programs: Offering additional support and enrichment activities outside regular school hours.\\n\\n7. Teacher training: Improving the quality of education by enhancing teachers\\' skills and knowledge.\\n\\n8. Technology in education: Integrating modern technology to enhance learning experiences.\\n\\n9. Nutrition programs: Ensuring students have access to proper nutrition to support their learning.\\n\\n10. Community engagement: Involving parents and the community in educational initiatives.\\n\\nRegarding Dr. APJ Abdul Kalam\\'s contributions to education:\\n\\nDr. APJ Abdul Kalam, former President of India and renowned scientist, was a strong advocate for education and made significant contributions to the field. Some of his notable efforts include:\\n\\n1. Vision for youth: He emphasized the importance of education in empowering youth and realizing India\\'s potential as a developed nation.\\n\\n2. Interaction with students: He frequently visited schools and universities to interact with students, inspiring them to pursue knowledge and innovation.\\n\\n3. PURA (Providing Urban Amenities in Rural Areas): This concept, developed by Kalam, aimed to bridge the urban-rural divide in education and development.\\n\\n4. Digital learning: He promoted the use of technology in education, advocating for e-learning and virtual classrooms.\\n\\n5. Skill development: Kalam emphasized the need for practical skills alongside theoretical knowledge.\\n\\n6. \"What Can I Give\" movement: He initiated this movement to encourage youth to contribute to society and nation-building.\\n\\n7. Writing educational books: He authored several books aimed at inspiring and educating young minds, such as \"Ignited Minds\" and \"Wings of Fire.\"\\n\\n8. Promoting scientific temper: Kalam encouraged students to develop a scientific outlook and pursue careers in science and technology.\\n\\n9. Educational policy recommendations: He provided valuable inputs for shaping India\\'s educational policies.\\n\\n10. Lifelong learning: Kalam advocated for continuous learning and self-improvement throughout one\\'s life.\\n\\nDr. Kalam\\'s efforts in education were aimed at inspiring and empowering the youth of India, promoting scientific thinking, and fostering innovation to drive national development.\\n\\nContributing to society in the area of education through social services in India is a noble goal. There are many ways you can make a difference. Here are some ideas and opportunities:\\n\\n1. Volunteer teaching:\\n- Join NGOs or non-profit organizations that offer educational programs for underprivileged children.\\n- Participate in adult literacy programs.\\n- Teach English or other subjects in rural schools.\\n\\n2. Mentoring:\\n- Become a mentor for students, providing guidance on academics and career choices.\\n- Offer career counseling to high school and college students.\\n\\n3. Digital literacy:\\n- Conduct computer literacy classes for both children and adults.\\n- Help set up computer labs in rural schools.\\n\\n4. Skill development:\\n- Offer vocational training programs to help young adults acquire employable skills.\\n- Conduct workshops on soft skills, communication, and personality development.\\n\\n5. Educational material development:\\n- Create or translate educational content into regional languages.\\n- Develop low-cost teaching aids and learning materials.\\n\\n6. Fundraising:\\n- Organize fundraising events to support educational initiatives.\\n- Help secure scholarships for deserving students.\\n\\n7. Infrastructure support:\\n- Participate in programs to improve school infrastructure, such as building classrooms or libraries.\\n- Contribute to initiatives providing clean water and sanitation facilities in schools.\\n\\n8. Awareness campaigns:\\n- Conduct awareness programs on the importance of education, especially for girls.\\n- Organize campaigns against child labor and promote child education.\\n\\n9. Special education:\\n- Volunteer with organizations working with children with special needs.\\n- Help develop inclusive education programs.\\n\\n10. Education technology:\\n- Contribute to initiatives leveraging technology for education, such as e-learning platforms or mobile education apps.\\n\\n11. Teacher training:\\n- Conduct workshops to enhance teaching skills of rural educators.\\n- Introduce innovative teaching methodologies to improve classroom engagement.\\n\\n12. Library services:\\n- Help set up and manage community libraries.\\n- Organize book donation drives for underprivileged schools.\\n\\nTo get started, you can:\\n\\n1. Research and connect with reputable NGOs and non-profit organizations working in education in India.\\n2. Explore government initiatives and programs in the education sector that welcome volunteers.\\n3. Reach out to local schools or community centers to offer your services.\\n4. Join online platforms that connect volunteers with educational projects in India.\\n5. Develop your own initiative based on your skills and the needs of your local community.\\n\\nRemember that consistency and long-term commitment often lead to the most significant impact. Start with small steps and gradually increase your involvement as you gain more experience and understanding of the field.\\n\\nCombining the insights from Dr. APJ Abdul Kalam\\'s contributions to education and the various ways to contribute to social services in education in India, we can create a comprehensive approach to improving education:\\n\\n1. Vision and Inspiration: Like Dr. Kalam, focus on inspiring youth and promoting a vision of education as a tool for national development.\\n\\n2. Technology Integration: Embrace digital learning and computer literacy, following Kalam\\'s advocacy for e-learning and bridging the digital divide.\\n\\n3. Skill Development: Combine theoretical knowledge with practical skills, offering vocational training and workshops on soft skills.\\n\\n4. Community Engagement: Involve parents and community members in educational initiatives, similar to Kalam\\'s \"What Can I Give\" movement.\\n\\n5. Mentoring and Counseling: Provide guidance to students on academic and personal issues, inspired by Kalam\\'s interactions with students.\\n\\n6. Literacy Programs: Promote literacy among children and adults, including special focus on regional languages.\\n\\n7. Equal Access: Work towards ensuring all children have access to quality education, regardless of their background.\\n\\n8. Infrastructure Support: Contribute to improving school facilities, especially in rural areas, aligning with Kalam\\'s PURA concept.\\n\\n9. Teacher Training: Enhance educators\\' skills and introduce innovative teaching methodologies.\\n\\n10. Special Education: Support programs for students with special needs and learning difficulties.\\n\\n11. Lifelong Learning: Encourage continuous learning and self-improvement throughout one\\'s life, as advocated by Dr. Kalam.\\n\\nBy combining these elements, we can create a holistic approach to education that not only addresses immediate needs but also inspires long-term growth and development, much like Dr. Kalam\\'s vision for India\\'s educational future.\\n\\n'}\n"
     ]
    }
   ],
   "source": [
    "test_input = {                                              # Prepare test inputs\n",
    "    \"Area_of_interest\": \"Education\",\n",
    "    \"person_idolised\": \"APJ Abdul Kalam\"\n",
    "}\n",
    "\n",
    "try:\n",
    "    response = client.flow.test(compound_flow, test_input)           # Test entire pipeline\n",
    "    print(\"Test response:\", response)\n",
    "except FlowError as e:\n",
    "    print(\"Test failed:\", str(e)) "
   ]
  },
  {
   "cell_type": "code",
   "execution_count": 77,
   "metadata": {},
   "outputs": [
    {
     "data": {
      "text/plain": [
       "{'data': {'message': 'Knowledge created successfully', 'knowledge_id': 224}}"
      ]
     },
     "execution_count": 77,
     "metadata": {},
     "output_type": "execute_result"
    }
   ],
   "source": [
    "client.dataset.create(\"sohamthorat/nsshours\", \"Optional description\")\n"
   ]
  },
  {
   "cell_type": "code",
   "execution_count": 78,
   "metadata": {},
   "outputs": [
    {
     "data": {
      "text/plain": [
       "{'data': {'task_id': '73e21fdb-f7f1-4a1f-a4f2-0491c1eecaca'}}"
      ]
     },
     "execution_count": 78,
     "metadata": {},
     "output_type": "execute_result"
    }
   ],
   "source": [
    "client.dataset.add_source(\"sohamthorat/nsshours\", url=\"https://www.planstreet.com/what-are-social-services-and-what-they-do\")"
   ]
  },
  {
   "cell_type": "code",
   "execution_count": 84,
   "metadata": {},
   "outputs": [
    {
     "data": {
      "text/plain": [
       "{'data': {'task_id': '70feb43c-aca8-4bae-8f7e-623aa0b029b4'}}"
      ]
     },
     "execution_count": 84,
     "metadata": {},
     "output_type": "execute_result"
    }
   ],
   "source": [
    "client.dataset.add_source(\"sohamthorat/nsshours\", url=\"https://nss.gov.in/nss-detail-page\")"
   ]
  },
  {
   "cell_type": "code",
   "execution_count": 85,
   "metadata": {},
   "outputs": [
    {
     "data": {
      "text/plain": [
       "{'data': {'task_id': '8a21f319-81c3-4464-a19e-9395900a858f'}}"
      ]
     },
     "execution_count": 85,
     "metadata": {},
     "output_type": "execute_result"
    }
   ],
   "source": [
    "client.dataset.add_source(\"sohamthorat/nsshours\", url=\"https://www.bajajfinserv.in/national-service-scheme\")"
   ]
  },
  {
   "cell_type": "code",
   "execution_count": null,
   "metadata": {},
   "outputs": [],
   "source": []
  }
 ],
 "metadata": {
  "kernelspec": {
   "display_name": "Python 3",
   "language": "python",
   "name": "python3"
  },
  "language_info": {
   "codemirror_mode": {
    "name": "ipython",
    "version": 3
   },
   "file_extension": ".py",
   "mimetype": "text/x-python",
   "name": "python",
   "nbconvert_exporter": "python",
   "pygments_lexer": "ipython3",
   "version": "3.11.4"
  }
 },
 "nbformat": 4,
 "nbformat_minor": 2
}
